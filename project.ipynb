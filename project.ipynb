{
 "cells": [
  {
   "cell_type": "markdown",
   "metadata": {},
   "source": [
    "# Project: **Rootfinding using the Newton-Raphson method** in the **GNU Scientific Library (GSL)**\n",
    "\n",
    "The Newton-Raphson rootfinding method is implemented in the GNU Scientific Library (GSL) as one of several rootfinding methods available to the developer.\n",
    "\n",
    "### About the method\n",
    "The Newton-Raphson method is a classical and relatively simple method of calculating the root(s) of a differentiable function using the first-order derivatives of a function. The theory behind this method is that the intersection of a  line tangent to a point on the function and the function itself is generally closer to the root of the function than the original point. Mathematically, the Newton-Raphson method is iterative and is defined as \n",
    "$$x_n = x_{n-1}$$  \n",
    "\n",
    "Graphically, Newton-Raphson iterations look like the below image  \n",
    "<img src=\"images/newton_iterations.gif\" alt=\"a gif of newton iterations in action\" style=\"width: 400px;\"/>  \n",
    "_GIF courtesy [Ralf Pfeifer](https://commons.wikimedia.org/w/index.php?curid=2268473)_\n",
    "\n",
    "The convergence of the Newton-Raphson method is locally quadratic. However, there are a number of considerations which may make the use of this method slow or infeasible. If the function the developer is using is non-differentiable, then it will be impossible to find any derivative to use in the method. Even if the funciton is differentiable, the method may overshoot/diverge, as it does, for example, for the cube root [[1]](http://www.cas.mcmaster.ca/~cs4te3/notes/newtons_method.pdf). The method may also oscillate by bouncing between two points [[2]](http://sites.millersville.edu/bikenaga/calculus/newton/newton.html). Overall, the speed and efficiency of the method is largely dependent on making a good initial guess [[3]](https://github.com/cu-numcomp/numcomp-class/blob/master/Rootfinding.ipynb).  \n",
    "The GSL accounts for these issues by including a number of other rootfinding methods that don't encounter these issues but may take a longer time to solve. \n",
    "\n",
    "### Questions about the method\n",
    "\n",
    "### About the software\n",
    "![GNU logo](images/gnu_small.png)\n",
    "The GSL is an extensive numerical computation library with over 1,000 mathematical functions and associated tests. The library provides baseline numerical methods to several other scientific libraries and has wrappers in a number of languages other than C, including Ruby, Python, Julia, and Rust. The latest version was released in August of 2019 under the GNU General Public License.  \n",
    "  \n",
    "GSL powers simulation and scientific software at organizations such as NASA, Microsoft, and Apple and is a key component in the architecture of these packages. \n",
    "\n",
    "### Method as it appears in the software\n",
    "The GSL software has definitions for several different types of rootfinding solvers, allowing developers to \"plug and play\" by choosing which one to use and specififying it when defining the solver. As such, when defining the solver, the developer must provide the type. Due to the Newton-Raphson algorithm's use of derivatives, it is defined as an `gsl_root_fdfsolver_type`, specifically `gsl_root_fdfsolver_newton`.  \n",
    "Each of the iterative solvers used within the library are defined with an initialize and an iterate method - in our case, `newton_init` and `newton_iterate` respectively. The state of the iteration is maintained and tracked with the following struct\n",
    "```c\n",
    "typedef struct\n",
    "  {\n",
    "    double f, df;\n",
    "  }\n",
    "newton_state_t;\n",
    "```\n",
    "where f and df are the current point evaluated for the function and derivative respectively.   \n",
    "The initial point for the method to start on is defined by the developer in the initialization function.\n",
    "```c\n",
    "static int newton_init (void * vstate, gsl_function_fdf * fdf, double * root)\n",
    "```  \n",
    "On each iteration, the function and its derivative must be passed as a `gsl_function_fdf` and the current state and point are passed as the above `newton_state_t` and a double pointer. \n",
    "```c\n",
    "static int newton_iterate (void * vstate, gsl_function_fdf * fdf, double * root)\n",
    "```  \n",
    "This iteration will continue until a root is reached or an error is encountered.\n",
    "\n",
    "### References\n",
    "- [GSL Documentation](https://www.gnu.org/software/gsl/doc/latex/gsl-ref.pdf) - The documentation for `gsl_root_fdfsolver_newton` can be found on page 407. \n",
    "- [newton.c](https://github.com/ampl/gsl/blob/master/roots/newton.c) - GSL Source for the Newton rootfinding method."
   ]
  },
  {
   "cell_type": "code",
   "execution_count": null,
   "metadata": {},
   "outputs": [],
   "source": []
  }
 ],
 "metadata": {
  "kernelspec": {
   "display_name": "Python 3",
   "language": "python",
   "name": "python3"
  },
  "language_info": {
   "codemirror_mode": {
    "name": "ipython",
    "version": 3
   },
   "file_extension": ".py",
   "mimetype": "text/x-python",
   "name": "python",
   "nbconvert_exporter": "python",
   "pygments_lexer": "ipython3",
   "version": "3.6.3"
  }
 },
 "nbformat": 4,
 "nbformat_minor": 4
}
